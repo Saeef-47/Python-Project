{
 "cells": [
  {
   "cell_type": "code",
   "execution_count": 4,
   "id": "5c24305e-644e-4134-97b4-fb69571a1cde",
   "metadata": {},
   "outputs": [],
   "source": [
    "board = [\" \" for _ in range(9)]"
   ]
  },
  {
   "cell_type": "code",
   "execution_count": 5,
   "id": "5e85c429-df2d-41bf-9279-6e08ac542fde",
   "metadata": {},
   "outputs": [],
   "source": [
    "def display_board():\n",
    "    print(f\"{board[0]} | {board[1]} | {board[2]}\")\n",
    "    print(\"--+---+--\")\n",
    "    print(f\"{board[3]} | {board[4]} | {board[5]}\")\n",
    "    print(\"--+---+--\")\n",
    "    print(f\"{board[6]} | {board[7]} | {board[8]}\")"
   ]
  },
  {
   "cell_type": "code",
   "execution_count": 6,
   "id": "5c932633-46b1-41dd-922d-669c31f8f226",
   "metadata": {},
   "outputs": [],
   "source": [
    "def check_winner(player):\n",
    "    win_combos = [\n",
    "        [0, 1, 2], [3, 4, 5], [6, 7, 8],  # rows\n",
    "        [0, 3, 6], [1, 4, 7], [2, 5, 8],  # columns\n",
    "        [0, 4, 8], [2, 4, 6]               # diagonals\n",
    "    ]\n",
    "    for combo in win_combos:\n",
    "        if all(board[i] == player for i in combo):\n",
    "            return True\n",
    "    return False"
   ]
  },
  {
   "cell_type": "code",
   "execution_count": 7,
   "id": "195a4fc6-661b-4273-84bf-95d8f1b0e998",
   "metadata": {},
   "outputs": [
    {
     "name": "stdout",
     "output_type": "stream",
     "text": [
      "  |   |  \n",
      "--+---+--\n",
      "  |   |  \n",
      "--+---+--\n",
      "  |   |  \n"
     ]
    },
    {
     "name": "stdin",
     "output_type": "stream",
     "text": [
      "Player X, choose a position (1-9):  2\n"
     ]
    },
    {
     "name": "stdout",
     "output_type": "stream",
     "text": [
      "  | X |  \n",
      "--+---+--\n",
      "  |   |  \n",
      "--+---+--\n",
      "  |   |  \n"
     ]
    },
    {
     "name": "stdin",
     "output_type": "stream",
     "text": [
      "Player O, choose a position (1-9):  3\n"
     ]
    },
    {
     "name": "stdout",
     "output_type": "stream",
     "text": [
      "  | X | O\n",
      "--+---+--\n",
      "  |   |  \n",
      "--+---+--\n",
      "  |   |  \n"
     ]
    },
    {
     "name": "stdin",
     "output_type": "stream",
     "text": [
      "Player X, choose a position (1-9):  1\n"
     ]
    },
    {
     "name": "stdout",
     "output_type": "stream",
     "text": [
      "X | X | O\n",
      "--+---+--\n",
      "  |   |  \n",
      "--+---+--\n",
      "  |   |  \n"
     ]
    },
    {
     "name": "stdin",
     "output_type": "stream",
     "text": [
      "Player O, choose a position (1-9):  3\n"
     ]
    },
    {
     "name": "stdout",
     "output_type": "stream",
     "text": [
      "Invalid move! Try again.\n",
      "X | X | O\n",
      "--+---+--\n",
      "  |   |  \n",
      "--+---+--\n",
      "  |   |  \n"
     ]
    },
    {
     "name": "stdin",
     "output_type": "stream",
     "text": [
      "Player O, choose a position (1-9):  5\n"
     ]
    },
    {
     "name": "stdout",
     "output_type": "stream",
     "text": [
      "X | X | O\n",
      "--+---+--\n",
      "  | O |  \n",
      "--+---+--\n",
      "  |   |  \n"
     ]
    },
    {
     "name": "stdin",
     "output_type": "stream",
     "text": [
      "Player X, choose a position (1-9):  7\n"
     ]
    },
    {
     "name": "stdout",
     "output_type": "stream",
     "text": [
      "X | X | O\n",
      "--+---+--\n",
      "  | O |  \n",
      "--+---+--\n",
      "X |   |  \n"
     ]
    },
    {
     "name": "stdin",
     "output_type": "stream",
     "text": [
      "Player O, choose a position (1-9):  4\n"
     ]
    },
    {
     "name": "stdout",
     "output_type": "stream",
     "text": [
      "X | X | O\n",
      "--+---+--\n",
      "O | O |  \n",
      "--+---+--\n",
      "X |   |  \n"
     ]
    },
    {
     "name": "stdin",
     "output_type": "stream",
     "text": [
      "Player X, choose a position (1-9):  6\n"
     ]
    },
    {
     "name": "stdout",
     "output_type": "stream",
     "text": [
      "X | X | O\n",
      "--+---+--\n",
      "O | O | X\n",
      "--+---+--\n",
      "X |   |  \n"
     ]
    },
    {
     "name": "stdin",
     "output_type": "stream",
     "text": [
      "Player O, choose a position (1-9):  8\n"
     ]
    },
    {
     "name": "stdout",
     "output_type": "stream",
     "text": [
      "X | X | O\n",
      "--+---+--\n",
      "O | O | X\n",
      "--+---+--\n",
      "X | O |  \n",
      "It's a draw! 🤝\n"
     ]
    }
   ],
   "source": [
    "current_player = \"X\"\n",
    "\n",
    "for turn in range(9):  # max 9 turns\n",
    "    display_board()\n",
    "    try:\n",
    "        move = int(input(f\"Player {current_player}, choose a position (1-9): \")) - 1\n",
    "        if move < 0 or move > 8 or board[move] != \" \":\n",
    "            print(\"Invalid move! Try again.\")\n",
    "            continue\n",
    "    except ValueError:\n",
    "        print(\"Please enter a number between 1 and 9.\")\n",
    "        continue\n",
    "\n",
    "    board[move] = current_player\n",
    "\n",
    "    if check_winner(current_player):\n",
    "        display_board()\n",
    "        print(f\"🎉 Player {current_player} wins!\")\n",
    "        break\n",
    "\n",
    "    current_player = \"O\" if current_player == \"X\" else \"X\"\n",
    "\n",
    "else:\n",
    "    display_board()\n",
    "    print(\"It's a draw! 🤝\")"
   ]
  },
  {
   "cell_type": "code",
   "execution_count": null,
   "id": "99874c04-44be-4c9b-85ed-77b3b2b8d68f",
   "metadata": {},
   "outputs": [],
   "source": []
  }
 ],
 "metadata": {
  "kernelspec": {
   "display_name": "Python [conda env:base] *",
   "language": "python",
   "name": "conda-base-py"
  },
  "language_info": {
   "codemirror_mode": {
    "name": "ipython",
    "version": 3
   },
   "file_extension": ".py",
   "mimetype": "text/x-python",
   "name": "python",
   "nbconvert_exporter": "python",
   "pygments_lexer": "ipython3",
   "version": "3.13.5"
  }
 },
 "nbformat": 4,
 "nbformat_minor": 5
}
