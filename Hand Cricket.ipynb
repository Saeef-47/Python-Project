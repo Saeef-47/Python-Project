{
 "cells": [
  {
   "cell_type": "code",
   "execution_count": 9,
   "id": "ec3e0341-5855-44f6-9c62-5a9e6d2a558d",
   "metadata": {},
   "outputs": [],
   "source": [
    "import random"
   ]
  },
  {
   "cell_type": "code",
   "execution_count": 10,
   "id": "b260fcf8-1460-4b22-bce9-c8e57573bb9b",
   "metadata": {},
   "outputs": [],
   "source": [
    "def player_batting():\n",
    "    score = 0\n",
    "    print(\"\\nYour batting turn:\")\n",
    "    while True:\n",
    "        try:\n",
    "            player_choice = int(input(\"Enter your run (1-6): \"))\n",
    "            if player_choice not in range(1, 7):\n",
    "                print(\"Please choose between 1 and 6.\")\n",
    "                continue\n",
    "        except ValueError:\n",
    "            print(\"Enter a valid number!\")\n",
    "            continue\n",
    "\n",
    "        comp_choice = random.randint(1, 6)\n",
    "        print(f\"Computer bowled: {comp_choice}\")\n",
    "\n",
    "        if player_choice == comp_choice:\n",
    "            print(\"You're OUT!\")\n",
    "            break\n",
    "        else:\n",
    "            score += player_choice\n",
    "            print(f\"Your score: {score}\")\n",
    "    return score\n"
   ]
  },
  {
   "cell_type": "code",
   "execution_count": 11,
   "id": "e94dc8fc-dfda-4901-9c82-24a61a104569",
   "metadata": {},
   "outputs": [],
   "source": [
    "def computer_batting(target):\n",
    "    score = 0\n",
    "    print(\"\\nComputer's batting turn:\")\n",
    "    while True:\n",
    "        comp_choice = random.randint(1, 6)\n",
    "        try:\n",
    "            player_choice = int(input(\"Enter your bowl (1-6): \"))\n",
    "            if player_choice not in range(1, 7):\n",
    "                print(\"Please choose between 1 and 6.\")\n",
    "                continue\n",
    "        except ValueError:\n",
    "            print(\"Enter a valid number!\")\n",
    "            continue\n",
    "\n",
    "        print(f\"Computer played: {comp_choice}\")\n",
    "\n",
    "        if player_choice == comp_choice:\n",
    "            print(\"Computer is OUT!\")\n",
    "            break\n",
    "        else:\n",
    "            score += comp_choice\n",
    "            print(f\"Computer score: {score}\")\n",
    "            if score > target:\n",
    "                print(\"Computer wins! 🏆\")\n",
    "                return score\n",
    "    return score\n"
   ]
  },
  {
   "cell_type": "code",
   "execution_count": 12,
   "id": "b7cdb367-120b-482f-a1e1-564b3c506f70",
   "metadata": {},
   "outputs": [],
   "source": [
    "def hand_cricket():\n",
    "    print(\"🏏 Welcome to Hand Cricket!\")\n",
    "    print(\"Rules: Choose a number (1-6). If it matches computer's number, you're OUT!\")\n",
    "\n",
    "    # Player bats first\n",
    "    player_score = player_batting()\n",
    "    print(f\"\\nYour innings ends with: {player_score} runs\")\n",
    "\n",
    "    # Computer bats second\n",
    "    comp_score = computer_batting(player_score)\n",
    "    print(f\"\\nComputer innings ends with: {comp_score} runs\")\n",
    "\n",
    "    # Final result\n",
    "    if player_score > comp_score:\n",
    "        print(\"🎉 You win!\")\n",
    "    elif comp_score > player_score:\n",
    "        print(\"🏆 Computer wins!\")\n",
    "    else:\n",
    "        print(\"It's a draw! 🤝\")\n"
   ]
  },
  {
   "cell_type": "code",
   "execution_count": null,
   "id": "26372bc3-73da-4ee2-afbf-fe419b0cb9c1",
   "metadata": {},
   "outputs": [
    {
     "name": "stdout",
     "output_type": "stream",
     "text": [
      "🏏 Welcome to Hand Cricket!\n",
      "Rules: Choose a number (1-6). If it matches computer's number, you're OUT!\n",
      "\n",
      "Your batting turn:\n"
     ]
    },
    {
     "name": "stdin",
     "output_type": "stream",
     "text": [
      "Enter your run (1-6):  5\n"
     ]
    },
    {
     "name": "stdout",
     "output_type": "stream",
     "text": [
      "Computer bowled: 1\n",
      "Your score: 5\n"
     ]
    },
    {
     "name": "stdin",
     "output_type": "stream",
     "text": [
      "Enter your run (1-6):  5\n"
     ]
    },
    {
     "name": "stdout",
     "output_type": "stream",
     "text": [
      "Computer bowled: 4\n",
      "Your score: 10\n"
     ]
    },
    {
     "name": "stdin",
     "output_type": "stream",
     "text": [
      "Enter your run (1-6):  2\n"
     ]
    },
    {
     "name": "stdout",
     "output_type": "stream",
     "text": [
      "Computer bowled: 2\n",
      "You're OUT!\n",
      "\n",
      "Your innings ends with: 10 runs\n",
      "\n",
      "Computer's batting turn:\n"
     ]
    }
   ],
   "source": [
    "hand_cricket()"
   ]
  },
  {
   "cell_type": "code",
   "execution_count": null,
   "id": "2f65f931-641c-4ed1-8d42-85d9bb9bd1c2",
   "metadata": {},
   "outputs": [],
   "source": []
  },
  {
   "cell_type": "code",
   "execution_count": null,
   "id": "a6775f81-68df-4e3b-b327-8e88934ffef0",
   "metadata": {},
   "outputs": [],
   "source": []
  }
 ],
 "metadata": {
  "kernelspec": {
   "display_name": "Python [conda env:base] *",
   "language": "python",
   "name": "conda-base-py"
  },
  "language_info": {
   "codemirror_mode": {
    "name": "ipython",
    "version": 3
   },
   "file_extension": ".py",
   "mimetype": "text/x-python",
   "name": "python",
   "nbconvert_exporter": "python",
   "pygments_lexer": "ipython3",
   "version": "3.13.5"
  }
 },
 "nbformat": 4,
 "nbformat_minor": 5
}
