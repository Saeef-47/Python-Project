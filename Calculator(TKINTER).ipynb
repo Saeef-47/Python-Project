{
 "cells": [
  {
   "cell_type": "code",
   "execution_count": 18,
   "id": "b6b5ec2f-0ba1-4bb6-ba88-754f65076262",
   "metadata": {},
   "outputs": [],
   "source": [
    "import tkinter as tk"
   ]
  },
  {
   "cell_type": "code",
   "execution_count": 19,
   "id": "9d2da8bf-bcae-45e1-8585-e84f7287580e",
   "metadata": {},
   "outputs": [
    {
     "data": {
      "text/plain": [
       "''"
      ]
     },
     "execution_count": 19,
     "metadata": {},
     "output_type": "execute_result"
    }
   ],
   "source": [
    "window = tk.Tk()\n",
    "window.title(\"Calculator\")\n",
    "window.geometry(\"300x400\")\n",
    "window.resizable(False, False)"
   ]
  },
  {
   "cell_type": "code",
   "execution_count": 20,
   "id": "9847dc2f-560c-453e-8a36-c7b100390ec5",
   "metadata": {},
   "outputs": [],
   "source": [
    "expression = \"\"\n",
    "\n",
    "def update_expression(value):\n",
    "    global expression\n",
    "    expression += str(value)\n",
    "    entry_var.set(expression)\n",
    "\n",
    "def clear_expression():\n",
    "    global expression\n",
    "    expression = \"\"\n",
    "    entry_var.set(expression)\n",
    "\n",
    "def calculate_result():\n",
    "    global expression\n",
    "    try:\n",
    "        result = str(eval(expression))\n",
    "        entry_var.set(result)\n",
    "        expression = result\n",
    "    except:\n",
    "        entry_var.set(\"Error\")\n",
    "        expression = \"\"\n",
    "\n",
    "entry_var = tk.StringVar()\n",
    "\n",
    "entry = tk.Entry(window, textvariable=entry_var, font=(\"Arial\", 20), justify=\"right\")\n",
    "entry.pack(fill=\"both\", ipadx=8, ipady=8, padx=5, pady=5)"
   ]
  },
  {
   "cell_type": "code",
   "execution_count": 21,
   "id": "584f383e-aaec-457e-a610-786bb821a282",
   "metadata": {},
   "outputs": [],
   "source": [
    "button_frame = tk.Frame(window)\n",
    "button_frame.pack()\n",
    "\n",
    "buttons = [\n",
    "    (\"7\", 1, 0), (\"8\", 1, 1), (\"9\", 1, 2), (\"/\", 1, 3),\n",
    "    (\"4\", 2, 0), (\"5\", 2, 1), (\"6\", 2, 2), (\"*\", 2, 3),\n",
    "    (\"1\", 3, 0), (\"2\", 3, 1), (\"3\", 3, 2), (\"-\", 3, 3),\n",
    "    (\"0\", 4, 0), (\".\", 4, 1), (\"=\", 4, 2), (\"+\", 4, 3),\n",
    "]\n",
    "\n",
    "for (text, row, col) in buttons:\n",
    "    if text == \"=\":\n",
    "        action = calculate_result\n",
    "    else:\n",
    "        action = lambda x=text: update_expression(x)\n",
    "    \n",
    "    tk.Button(button_frame, text=text, width=5, height=2, font=(\"Arial\", 14),\n",
    "              command=action).grid(row=row, column=col, padx=2, pady=2)\n",
    "\n",
    "# Clear button\n",
    "tk.Button(window, text=\"Clear\", width=20, height=2, font=(\"Arial\", 14),\n",
    "          command=clear_expression).pack(pady=5)"
   ]
  },
  {
   "cell_type": "code",
   "execution_count": 22,
   "id": "bae14ffc-8ce8-4aa4-b6c7-c52ac0b373bc",
   "metadata": {},
   "outputs": [],
   "source": [
    "window.mainloop()"
   ]
  },
  {
   "cell_type": "code",
   "execution_count": null,
   "id": "0ef41013-b231-4ec1-85fc-2774ac79311a",
   "metadata": {},
   "outputs": [],
   "source": []
  },
  {
   "cell_type": "code",
   "execution_count": null,
   "id": "13a1700b-d6dd-4ebb-a53e-69b564801877",
   "metadata": {},
   "outputs": [],
   "source": []
  }
 ],
 "metadata": {
  "kernelspec": {
   "display_name": "Python [conda env:base] *",
   "language": "python",
   "name": "conda-base-py"
  },
  "language_info": {
   "codemirror_mode": {
    "name": "ipython",
    "version": 3
   },
   "file_extension": ".py",
   "mimetype": "text/x-python",
   "name": "python",
   "nbconvert_exporter": "python",
   "pygments_lexer": "ipython3",
   "version": "3.13.5"
  }
 },
 "nbformat": 4,
 "nbformat_minor": 5
}
