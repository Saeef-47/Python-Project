{
 "cells": [
  {
   "cell_type": "code",
   "execution_count": 7,
   "id": "fad0f00d-14c1-47f1-8ba5-436ddee31fff",
   "metadata": {},
   "outputs": [],
   "source": [
    "import tkinter as tk\n",
    "from tkinter import messagebox"
   ]
  },
  {
   "cell_type": "code",
   "execution_count": 8,
   "id": "96359512-2f51-401c-ab2f-4a3233df6923",
   "metadata": {},
   "outputs": [],
   "source": [
    "questions = [\n",
    "    \"What is the capital of France?\",\n",
    "    \"Which language is used for web apps?\",\n",
    "    \"Who developed Python?\",\n",
    "]\n",
    "\n",
    "options = [\n",
    "    [\"Paris\", \"London\", \"Berlin\", \"Madrid\"],\n",
    "    [\"Python\", \"Java\", \"HTML\", \"C++\"],\n",
    "    [\"Guido van Rossum\", \"Elon Musk\", \"Bill Gates\", \"Mark Zuckerberg\"]\n",
    "]\n",
    "\n",
    "answers = [0, 2, 0]  # Index of correct option"
   ]
  },
  {
   "cell_type": "code",
   "execution_count": 9,
   "id": "c60905eb-93fa-4d0e-8b4b-6699bd024f40",
   "metadata": {},
   "outputs": [
    {
     "data": {
      "text/plain": [
       "''"
      ]
     },
     "execution_count": 9,
     "metadata": {},
     "output_type": "execute_result"
    }
   ],
   "source": [
    "root = tk.Tk()\n",
    "root.title(\"Quiz Maker\")\n",
    "root.geometry(\"500x400\")"
   ]
  },
  {
   "cell_type": "code",
   "execution_count": 10,
   "id": "4b08b7c0-624b-4264-a496-1646d87b924c",
   "metadata": {},
   "outputs": [],
   "source": [
    "question_index = 0\n",
    "score = 0\n",
    "selected_option = tk.IntVar()\n",
    "\n",
    "def load_question():\n",
    "    global question_index\n",
    "    selected_option.set(-1)\n",
    "    question_label.config(text=questions[question_index])\n",
    "    for i in range(4):\n",
    "        option_buttons[i].config(text=options[question_index][i])\n",
    "\n",
    "def next_question():\n",
    "    global question_index, score\n",
    "    if selected_option.get() == answers[question_index]:\n",
    "        score += 1\n",
    "    question_index += 1\n",
    "\n",
    "    if question_index < len(questions):\n",
    "        load_question()\n",
    "    else:\n",
    "        messagebox.showinfo(\"Quiz Finished\", f\"Your Score: {score}/{len(questions)}\")\n",
    "        root.destroy()"
   ]
  },
  {
   "cell_type": "code",
   "execution_count": 11,
   "id": "134d89b9-09ba-4a5e-b1be-5a32d88fc02a",
   "metadata": {},
   "outputs": [],
   "source": [
    "question_label = tk.Label(root, text=\"\", font=(\"Arial\", 16), wraplength=400, justify=\"center\")\n",
    "question_label.pack(pady=20)\n",
    "\n",
    "option_buttons = []\n",
    "for i in range(4):\n",
    "    btn = tk.Radiobutton(root, text=\"\", variable=selected_option, value=i, font=(\"Arial\", 14))\n",
    "    btn.pack(anchor=\"w\", padx=100)\n",
    "    option_buttons.append(btn)\n",
    "\n",
    "next_button = tk.Button(root, text=\"Next\", command=next_question, font=(\"Arial\", 14))\n",
    "next_button.pack(pady=20)"
   ]
  },
  {
   "cell_type": "code",
   "execution_count": 12,
   "id": "283ae45f-26b4-4dd4-88b7-f49429679dc2",
   "metadata": {},
   "outputs": [],
   "source": [
    "load_question()\n",
    "root.mainloop()"
   ]
  },
  {
   "cell_type": "code",
   "execution_count": null,
   "id": "ed4e4ca7-de0b-481e-af1a-b3fe198deb3e",
   "metadata": {},
   "outputs": [],
   "source": []
  }
 ],
 "metadata": {
  "kernelspec": {
   "display_name": "Python [conda env:base] *",
   "language": "python",
   "name": "conda-base-py"
  },
  "language_info": {
   "codemirror_mode": {
    "name": "ipython",
    "version": 3
   },
   "file_extension": ".py",
   "mimetype": "text/x-python",
   "name": "python",
   "nbconvert_exporter": "python",
   "pygments_lexer": "ipython3",
   "version": "3.13.5"
  }
 },
 "nbformat": 4,
 "nbformat_minor": 5
}
