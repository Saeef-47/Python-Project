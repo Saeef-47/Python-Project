{
 "cells": [
  {
   "cell_type": "code",
   "execution_count": 20,
   "id": "faa0514d-a658-4cd5-9531-217d4c041dfe",
   "metadata": {},
   "outputs": [],
   "source": [
    "import tkinter as tk\n",
    "from tkinter import filedialog, messagebox"
   ]
  },
  {
   "cell_type": "code",
   "execution_count": 21,
   "id": "5649f5fd-1479-46ca-a46a-e79ddb15315a",
   "metadata": {},
   "outputs": [
    {
     "data": {
      "text/plain": [
       "''"
      ]
     },
     "execution_count": 21,
     "metadata": {},
     "output_type": "execute_result"
    }
   ],
   "source": [
    "root = tk.Tk()\n",
    "root.title(\"Notepad\")\n",
    "root.geometry(\"600x400\")"
   ]
  },
  {
   "cell_type": "code",
   "execution_count": 22,
   "id": "fa5a9283-5df8-433d-92d9-147535a021fb",
   "metadata": {},
   "outputs": [],
   "source": [
    "text_area = tk.Text(root, wrap=\"word\", font=(\"Arial\", 12))\n",
    "text_area.pack(expand=True, fill=\"both\")"
   ]
  },
  {
   "cell_type": "code",
   "execution_count": 23,
   "id": "0130352d-9631-440c-82fa-cabc66e1051c",
   "metadata": {},
   "outputs": [],
   "source": [
    "def new_file():\n",
    "    text_area.delete(1.0, tk.END)\n",
    "\n",
    "def open_file():\n",
    "    file_path = filedialog.askopenfilename(filetypes=[(\"Text Files\", \"*.txt\")])\n",
    "    if file_path:\n",
    "        with open(file_path, \"r\") as file:\n",
    "            text_area.delete(1.0, tk.END)\n",
    "            text_area.insert(tk.END, file.read())\n",
    "\n",
    "def save_file():\n",
    "    file_path = filedialog.asksaveasfilename(defaultextension=\".txt\",\n",
    "                                             filetypes=[(\"Text Files\", \"*.txt\")])\n",
    "    if file_path:\n",
    "        with open(file_path, \"w\") as file:\n",
    "            file.write(text_area.get(1.0, tk.END))\n",
    "        messagebox.showinfo(\"Notepad\", \"File Saved Successfully!\")\n",
    "\n",
    "def exit_app():\n",
    "    root.quit()"
   ]
  },
  {
   "cell_type": "code",
   "execution_count": 24,
   "id": "439ad16a-ee94-4e11-b8a0-4bc7e84d2bd7",
   "metadata": {},
   "outputs": [],
   "source": [
    "# Menu Bar\n",
    "menu_bar = tk.Menu(root)\n",
    "\n",
    "# File Menu\n",
    "file_menu = tk.Menu(menu_bar, tearoff=0)\n",
    "file_menu.add_command(label=\"New\", command=new_file)\n",
    "file_menu.add_command(label=\"Open\", command=open_file)\n",
    "file_menu.add_command(label=\"Save\", command=save_file)\n",
    "file_menu.add_separator()\n",
    "file_menu.add_command(label=\"Exit\", command=exit_app)\n",
    "menu_bar.add_cascade(label=\"File\", menu=file_menu)\n",
    "\n",
    "# Help Menu\n",
    "help_menu = tk.Menu(menu_bar, tearoff=0)\n",
    "help_menu.add_command(\n",
    "    label=\"About\",\n",
    "    command=lambda: messagebox.showinfo(\"About\", \"Tkinter Notepad by You\")\n",
    ")\n",
    "menu_bar.add_cascade(label=\"Help\", menu=help_menu)\n",
    "\n",
    "root.config(menu=menu_bar)\n"
   ]
  },
  {
   "cell_type": "code",
   "execution_count": 25,
   "id": "a9ed743a-0ee8-4fd6-9caf-b97bb2e07686",
   "metadata": {},
   "outputs": [],
   "source": [
    "root.mainloop()"
   ]
  },
  {
   "cell_type": "code",
   "execution_count": null,
   "id": "ad2040ff-82e8-4346-b297-7c2bdb3e994a",
   "metadata": {},
   "outputs": [],
   "source": []
  },
  {
   "cell_type": "code",
   "execution_count": null,
   "id": "3f1a5f0f-2a48-425e-9da0-e81d9c88195c",
   "metadata": {},
   "outputs": [],
   "source": []
  }
 ],
 "metadata": {
  "kernelspec": {
   "display_name": "Python [conda env:base] *",
   "language": "python",
   "name": "conda-base-py"
  },
  "language_info": {
   "codemirror_mode": {
    "name": "ipython",
    "version": 3
   },
   "file_extension": ".py",
   "mimetype": "text/x-python",
   "name": "python",
   "nbconvert_exporter": "python",
   "pygments_lexer": "ipython3",
   "version": "3.13.5"
  }
 },
 "nbformat": 4,
 "nbformat_minor": 5
}
